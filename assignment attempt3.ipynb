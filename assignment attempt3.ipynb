{
 "metadata": {
  "name": "",
  "signature": "sha256:2724562d72415c3f486730bfaf5b44903ea541489140e79834278f333bc4d8af"
 },
 "nbformat": 3,
 "nbformat_minor": 0,
 "worksheets": [
  {
   "cells": [
    {
     "cell_type": "code",
     "collapsed": false,
     "input": [
      "import math\n",
      "import numpy\n",
      "from scipy import integrate\n",
      "from matplotlib import pyplot"
     ],
     "language": "python",
     "metadata": {},
     "outputs": [],
     "prompt_number": 1
    },
    {
     "cell_type": "code",
     "collapsed": false,
     "input": [
      "with open ('./resources/MainFoil_N=200.csv') as file_name:\n",
      "          p, q = numpy.loadtxt(file_name, dtype=float, delimiter=',', unpack=True)\n",
      "with open ('./resources/FlapFoil_N=200.csv') as file_name:\n",
      "         u, v = numpy.loadtxt(file_name, dtype=float, delimiter=',', unpack=True)"
     ],
     "language": "python",
     "metadata": {},
     "outputs": [],
     "prompt_number": 2
    },
    {
     "cell_type": "code",
     "collapsed": false,
     "input": [
      "# plots the geometry\n",
      "%matplotlib inline\n",
      "\n",
      "val_x, val_y = 0.1, 0.2\n",
      "x_min, x_max = p.min(), u.max()\n",
      "y_min, y_max = v.min(), q.max()\n",
      "x_start, x_end = x_min-val_x*(x_max-x_min), x_max+val_x*(x_max-x_min)\n",
      "y_start, y_end = y_min-val_y*(y_max-y_min), y_max+val_y*(y_max-y_min)\n",
      "\n",
      "size = 10\n",
      "pyplot.figure(figsize=(size, (y_end-y_start)/(x_end-x_start)*size))\n",
      "pyplot.grid(True)\n",
      "pyplot.xlabel('x', fontsize=16)\n",
      "pyplot.ylabel('y', fontsize=16)\n",
      "pyplot.xlim(x_start, x_end)\n",
      "pyplot.ylim(y_start, y_end)\n",
      "pyplot.plot(p, q, color='k', linestyle='-', linewidth=2);\n",
      "pyplot.plot(u, v, color='k', linestyle='-', linewidth=2);"
     ],
     "language": "python",
     "metadata": {},
     "outputs": [
      {
       "metadata": {},
       "output_type": "display_data",
       "png": "[encoded data removed]",
       "text": [
        "<matplotlib.figure.Figure at 0xfd73c50>"
       ]
      }
     ],
     "prompt_number": 3
    },
    {
     "cell_type": "code",
     "collapsed": false,
     "input": [
      "class Panel:\n",
      "    \"\"\"Contains information related to one panel.\"\"\"\n",
      "    def __init__(self, xa, ya, xb, yb):\n",
      "        \"\"\"Creates a panel.\n",
      "        \n",
      "        Arguments\n",
      "        ---------\n",
      "        xa, ya -- Cartesian coordinates of the first end-point.\n",
      "        xb, yb -- Cartesian coordinates of the second end-point.\n",
      "        \"\"\"\n",
      "        self.xa, self.ya = xa, ya\n",
      "        self.xb, self.yb = xb, yb\n",
      "        \n",
      "        self.xc, self.yc = (xa+xb)/2, (ya+yb)/2       # control-point (center-point)\n",
      "        self.length = math.sqrt((xb-xa)**2+(yb-ya)**2)     # length of the panel\n",
      "        \n",
      "        # orientation of the panel (angle between x-axis and panel's normal)\n",
      "        if xb-xa <= 0.:\n",
      "            self.beta = math.acos((yb-ya)/self.length)\n",
      "        elif xb-xa > 0.:\n",
      "            self.beta = math.pi + math.acos(-(yb-ya)/self.length)\n",
      "        \n",
      "        # location of the panel\n",
      "        if self.beta <= math.pi:\n",
      "            self.loc = 'extrados'\n",
      "        else:\n",
      "            self.loc = 'intrados'\n",
      "        \n",
      "        self.sigma = 0.                             # source strength\n",
      "        self.vt = 0.                                # tangential velocity\n",
      "        self.cp = 0.                                # pressure coefficient"
     ],
     "language": "python",
     "metadata": {},
     "outputs": [],
     "prompt_number": 4
    },
    {
     "cell_type": "code",
     "collapsed": false,
     "input": [
      "N=200\n",
      "panels = numpy.empty(N, dtype=object)\n",
      "flappanels = numpy.empty(N, dtype=object)\n",
      "for i in xrange(N):\n",
      "    panels[i] = Panel(p[i], q[i], p[i+1], q[i+1])\n",
      "for j in xrange(N):\n",
      "    flappanels[j] = Panel(u[j], v[j], u[j+1], v[j+1])"
     ],
     "language": "python",
     "metadata": {},
     "outputs": [],
     "prompt_number": 5
    },
    {
     "cell_type": "code",
     "collapsed": false,
     "input": [
      "allpanels = numpy.append(panels,flappanels)"
     ],
     "language": "python",
     "metadata": {},
     "outputs": [],
     "prompt_number": 6
    },
    {
     "cell_type": "code",
     "collapsed": false,
     "input": [
      "def integral(x, y, panel, dxdz, dydz):\n",
      "    \"\"\"Evaluates the contribution of a panel at one point.\n",
      "    \n",
      "    Arguments\n",
      "    ---------\n",
      "    x, y -- Cartesian coordinates of the point.\n",
      "    panel -- panel which contribution is evaluated.\n",
      "    dxdz -- derivative of x in the z-direction.\n",
      "    dydz -- derivative of y in the z-direction.\n",
      "    \n",
      "    Returns\n",
      "    -------\n",
      "    Integral over the panel of the influence at one point.\n",
      "    \"\"\"\n",
      "    def func(s):\n",
      "        return ( ((x - (panel.xa - math.sin(panel.beta)*s))*dxdz \n",
      "                  + (y - (panel.ya + math.cos(panel.beta)*s))*dydz)\n",
      "                / ((x - (panel.xa - math.sin(panel.beta)*s))**2 \n",
      "                   + (y - (panel.ya + math.cos(panel.beta)*s))**2) )\n",
      "    return integrate.quad(lambda s:func(s), 0., panel.length)[0]"
     ],
     "language": "python",
     "metadata": {},
     "outputs": [],
     "prompt_number": 7
    },
    {
     "cell_type": "code",
     "collapsed": false,
     "input": [
      "def source_contribution_normal(panels):\n",
      "    \"\"\"Builds the source matrix.\n",
      "    \n",
      "    Arguments\n",
      "    ---------\n",
      "    panels -- array of panels.\n",
      "    \n",
      "    Returns\n",
      "    -------\n",
      "    A -- NxN matrix (N is the number of panels).\n",
      "    \"\"\"\n",
      "    A = numpy.empty((panels.size, panels.size), dtype=float)\n",
      "    numpy.fill_diagonal(A, 0.5)\n",
      "    \n",
      "    for i, p_i in enumerate(panels):\n",
      "        for j, p_j in enumerate(panels):\n",
      "            if i != j:\n",
      "                A[i,j] = 0.5/math.pi*integral(p_i.xc, p_i.yc, \n",
      "                                              p_j, \n",
      "                                              math.cos(p_i.beta), math.sin(p_i.beta))\n",
      "    \n",
      "    return A"
     ],
     "language": "python",
     "metadata": {},
     "outputs": [],
     "prompt_number": 8
    },
    {
     "cell_type": "code",
     "collapsed": false,
     "input": [
      "def vortex_contribution_normal(panels):\n",
      "    \"\"\"Builds the vortex contribution matrix for the normal velocity.\n",
      "    \n",
      "    Parameters\n",
      "    ----------\n",
      "    panels: Numpy 1d array (Panel object)\n",
      "        List of panels.\n",
      "    \n",
      "    Returns\n",
      "    -------\n",
      "    A: Numpy 2d array (float)\n",
      "        Vortex contribution matrix.\n",
      "    \"\"\"\n",
      "    A = numpy.empty((panels.size, panels.size), dtype=float)\n",
      "    # vortex contribution on a panel from itself\n",
      "    numpy.fill_diagonal(A, 0.0)\n",
      "    # vortex contribution on a panel from others\n",
      "    for i, panel_i in enumerate(panels):\n",
      "        for j, panel_j in enumerate(panels):\n",
      "            if i != j:\n",
      "                A[i, j] = -0.5/numpy.pi*integral(panel_i.xc, panel_i.yc, \n",
      "                                                 panel_j,\n",
      "                                                 numpy.sin(panel_i.beta),\n",
      "                                                 -numpy.cos(panel_i.beta))\n",
      "    return A"
     ],
     "language": "python",
     "metadata": {},
     "outputs": [],
     "prompt_number": 9
    },
    {
     "cell_type": "code",
     "collapsed": false,
     "input": [
      "A_source = source_contribution_normal(allpanels)\n",
      "B_vortex = vortex_contribution_normal(allpanels)"
     ],
     "language": "python",
     "metadata": {},
     "outputs": [],
     "prompt_number": 10
    },
    {
     "cell_type": "code",
     "collapsed": false,
     "input": [
      "def kutta_condition(A_source, B_vortex):\n",
      "\n",
      "    b = numpy.empty(A_source.shape[0]+2, dtype=float)\n",
      "    c = numpy.empty(A_source.shape[0]+2, dtype=float)\n",
      "    # matrix of source contribution on tangential velocity\n",
      "    # is the same than\n",
      "    # matrix of vortex contribution on normal velocity\n",
      "    b[:-2] = B_vortex[0, :] + B_vortex[N-1, :]\n",
      "    c[:-2] = B_vortex[100, :] + B_vortex[-1, :]\n",
      "    # matrix of vortex contribution on tangential velocity\n",
      "    # is the opposite of\n",
      "    # matrix of source contribution on normal velocity\n",
      "    b[-2] = - numpy.sum(A_source[0, :N] + A_source[N-1, :N])\n",
      "    b[-1] = - numpy.sum(A_source[0, N:] + A_source[N-1, N:])\n",
      "    c[-2] = - numpy.sum(A_source[N, :N] + A_source[-1, :N])\n",
      "    c[-1] = - numpy.sum(A_source[N, N:] + A_source[-1, N:])\n",
      "    \n",
      "    return b, c"
     ],
     "language": "python",
     "metadata": {},
     "outputs": [],
     "prompt_number": 11
    },
    {
     "cell_type": "code",
     "collapsed": false,
     "input": [
      "def build_singularity_matrix(A_source, B_vortex):\n",
      "    \"\"\"Builds the left hand-side matrix of the system\n",
      "    arising from source and vortex contributions.\n",
      "    \n",
      "    Parameters\n",
      "    ----------\n",
      "    A_source: Numpy 2d array (float)\n",
      "        Source contribution matrix for the normal velocity.\n",
      "    B_vortex: Numpy 2d array (float)\n",
      "        Vortex contribution matrix for the normal velocity.\n",
      "    \n",
      "    Returns\n",
      "    -------\n",
      "    A:  Numpy 2d array (float)\n",
      "        Matrix of the linear system.\n",
      "    \"\"\"\n",
      "    A = numpy.empty((A_source.shape[0]+2, A_source.shape[1]+2), dtype=float)\n",
      "    # source contribution matrix\n",
      "    A[:-2, :-2] = A_source\n",
      "    # Kutta condition array\n",
      "    A[-2, :], A[-1, :]= kutta_condition(A_source, B_vortex)\n",
      "    # vortex contribution array\n",
      "    p = numpy.empty((2*N, N), dtype=float)\n",
      "    p = B_vortex[: ,:N]\n",
      "    q = numpy.empty((2*N, N), dtype=float)\n",
      "    q = B_vortex[: , N:]\n",
      "    A[:-2, -2] = numpy.sum(p, axis=1)\n",
      "    A[:-2, -1] = numpy.sum(q, axis=1)\n",
      "\n",
      "    return A"
     ],
     "language": "python",
     "metadata": {},
     "outputs": [],
     "prompt_number": 12
    },
    {
     "cell_type": "code",
     "collapsed": false,
     "input": [
      "class Freestream:\n",
      "    \"\"\"Freestream conditions.\"\"\"\n",
      "    def __init__(self, u_inf=1.0, mainalpha=0.0, flapalpha=0.0):\n",
      "        \"\"\"Sets the freestream conditions.\n",
      "        \n",
      "        Arguments\n",
      "        ---------\n",
      "        u_inf -- Farfield speed (default 1.0).\n",
      "        alpha -- Angle of attack in degrees (default 0.0).\n",
      "        \"\"\"\n",
      "        self.u_inf = u_inf\n",
      "        self.alpha = alpha*math.pi/180          # degrees --> radians\n",
      "        self.alpha1 = flapalpha*math.pi/180          # degrees --> radians"
     ],
     "language": "python",
     "metadata": {},
     "outputs": [],
     "prompt_number": 13
    },
    {
     "cell_type": "code",
     "collapsed": false,
     "input": [
      "# defines and creates the object freestream\n",
      "u_inf = 1.0                                # freestream spee\n",
      "alpha = 0.0                                # angle of attack (in degrees)\n",
      "flapalpha = 0.0\n",
      "freestream = Freestream(u_inf, alpha, flapalpha)      # instantiation of the object freestream"
     ],
     "language": "python",
     "metadata": {},
     "outputs": [],
     "prompt_number": 14
    },
    {
     "cell_type": "code",
     "collapsed": false,
     "input": [
      "def build_rhs(panels,allpanels,flappanels,freestream):\n",
      "    \"\"\"Builds the RHS of the linear system.\n",
      "    \n",
      "    Arguments\n",
      "    ---------\n",
      "    panels -- array of panels.\n",
      "    freestream -- farfield conditions.\n",
      "    \n",
      "    Returns\n",
      "    -------\n",
      "    b -- 1D array ((N+1)x1, N is the number of panels).\n",
      "    \"\"\"\n",
      "    N = len(allpanels)\n",
      "    NP = len(panels)\n",
      "    NF = len(flappanels)\n",
      "    b = numpy.empty(N+2,dtype=float)\n",
      "    \n",
      "    for i, panel in enumerate(panels):\n",
      "        b[i] = - freestream.u_inf * math.cos(freestream.alpha - panel.beta)\n",
      "    for j, panel in enumerate(flappanels):\n",
      "        b[j+(panels.size)] = - freestream.u_inf * math.cos(freestream.alpha1 - panel.beta)\n",
      "    \n",
      "    b[N] = -freestream.u_inf*( math.sin(freestream.alpha-panels[0].beta)\n",
      "                              +math.sin(freestream.alpha-panels[NP-1].beta) )\n",
      "    b[N+1] = -freestream.u_inf*( math.sin(freestream.alpha1-flappanels[0].beta)\n",
      "                              +math.sin(freestream.alpha1-flappanels[NF-1].beta) )\n",
      "    \n",
      "    return b"
     ],
     "language": "python",
     "metadata": {},
     "outputs": [],
     "prompt_number": 15
    },
    {
     "cell_type": "code",
     "collapsed": false,
     "input": [
      "B = build_rhs(panels,allpanels,flappanels,freestream)"
     ],
     "language": "python",
     "metadata": {},
     "outputs": [],
     "prompt_number": 16
    },
    {
     "cell_type": "code",
     "collapsed": false,
     "input": [
      "A = build_singularity_matrix(A_source, B_vortex)"
     ],
     "language": "python",
     "metadata": {},
     "outputs": [],
     "prompt_number": 17
    },
    {
     "cell_type": "code",
     "collapsed": false,
     "input": [
      "variables = numpy.linalg.solve(A, B)"
     ],
     "language": "python",
     "metadata": {},
     "outputs": [],
     "prompt_number": 18
    },
    {
     "cell_type": "code",
     "collapsed": false,
     "input": [
      "numpy.shape(variables)"
     ],
     "language": "python",
     "metadata": {},
     "outputs": [
      {
       "metadata": {},
       "output_type": "pyout",
       "prompt_number": 19,
       "text": [
        "(402L,)"
       ]
      }
     ],
     "prompt_number": 19
    },
    {
     "cell_type": "code",
     "collapsed": false,
     "input": [
      "for i, panel in enumerate(allpanels):\n",
      "    panel.sigma = variables[i]\n",
      "gamma2 = variables[-1]\n",
      "gamma1 = variables[-2]"
     ],
     "language": "python",
     "metadata": {},
     "outputs": [],
     "prompt_number": 20
    },
    {
     "cell_type": "code",
     "collapsed": false,
     "input": [
      "def compute_tangential_velocity(panels, freestream, gamma1, gamma2, A_source, B_vortex):\n",
      "    \"\"\"Computes the tangential surface velocity.\n",
      "    \n",
      "    Parameters\n",
      "    ----------\n",
      "    panels: Numpy 1d array (Panel object)\n",
      "        List of panels.\n",
      "    freestream: Fresstream object\n",
      "        Freestream conditions.\n",
      "    gamma: float\n",
      "        Circulation density.\n",
      "    A_source: Numpy 2d array (float)\n",
      "        Source contribution matrix for the normal velocity.\n",
      "    B_vortex: Numpy 2d array (float)\n",
      "        Vortex contribution matrix for the normal velocity.\n",
      "    \"\"\"\n",
      "    A = numpy.empty((panels.size, panels.size+2), dtype=float)\n",
      "    # matrix of source contribution on tangential velocity\n",
      "    # is the same than\n",
      "    # matrix of vortex contribution on normal velocity\n",
      "    A[:, :-2] = B_vortex\n",
      "    # matrix of vortex contribution on tangential velocity\n",
      "    # is the opposite of\n",
      "    # matrix of source contribution on normal velocity\n",
      "    p = numpy.empty((2*N, N), dtype=float)\n",
      "    p = A_source[: ,:N]\n",
      "    q = numpy.empty((2*N, N), dtype=float)\n",
      "    q = A_source[: , N:]\n",
      "    A[:, -2] = -numpy.sum(p, axis=1)\n",
      "    A[:, -1] = -numpy.sum(q, axis=1)\n",
      "    # freestream contribution\n",
      "    b = numpy.empty(2*N,dtype=float)\n",
      "    for i, panel in enumerate(panels):\n",
      "        if i<N:\n",
      "            b[i] = freestream.u_inf * math.sin(freestream.alpha - panel.beta)\n",
      "    \n",
      "    for j, panel in enumerate(panels):\n",
      "        if j>=N:\n",
      "            b[j] = freestream.u_inf * math.sin(freestream.alpha1 - panel.beta)\n",
      "    \n",
      "    strengths = numpy.append([panel.sigma for panel in panels], gamma1)\n",
      "    strengths = numpy.append(strengths, gamma2)\n",
      "    print numpy.shape(A)\n",
      "    print numpy.shape(strengths)\n",
      "    tangential_velocities = numpy.dot(A, strengths) + b\n",
      "    \n",
      "    for i, panel in enumerate(panels):\n",
      "        panel.vt = tangential_velocities[i]"
     ],
     "language": "python",
     "metadata": {},
     "outputs": [],
     "prompt_number": 21
    },
    {
     "cell_type": "code",
     "collapsed": false,
     "input": [
      "compute_tangential_velocity(allpanels, freestream, gamma1, gamma2, A_source, B_vortex)"
     ],
     "language": "python",
     "metadata": {},
     "outputs": [
      {
       "output_type": "stream",
       "stream": "stdout",
       "text": [
        "(400L, 402L)\n",
        "(402L,)\n"
       ]
      }
     ],
     "prompt_number": 22
    },
    {
     "cell_type": "code",
     "collapsed": false,
     "input": [
      "def compute_pressure_coefficient(panels, freestream):\n",
      "    \"\"\"Computes the surface pressure coefficients.\n",
      "    \n",
      "    Parameters\n",
      "    ----------\n",
      "    panels: Numpy 1d array (Panel object)\n",
      "        List of panels.\n",
      "    freestream: Freestream object\n",
      "        Freestream conditions.\n",
      "    \"\"\"\n",
      "    for panel in panels:\n",
      "        panel.cp = 1.0 - (panel.vt/freestream.u_inf)**2"
     ],
     "language": "python",
     "metadata": {},
     "outputs": [],
     "prompt_number": 23
    },
    {
     "cell_type": "code",
     "collapsed": false,
     "input": [
      "# surface pressure coefficient\n",
      "compute_pressure_coefficient(allpanels, freestream)"
     ],
     "language": "python",
     "metadata": {},
     "outputs": [],
     "prompt_number": 24
    },
    {
     "cell_type": "code",
     "collapsed": false,
     "input": [
      "flappanels[9].cp"
     ],
     "language": "python",
     "metadata": {},
     "outputs": [
      {
       "metadata": {},
       "output_type": "pyout",
       "prompt_number": 25,
       "text": [
        "0.6111426101722397"
       ]
      }
     ],
     "prompt_number": 25
    },
    {
     "cell_type": "code",
     "collapsed": false,
     "input": [
      "allpanels[2].xc"
     ],
     "language": "python",
     "metadata": {},
     "outputs": [
      {
       "metadata": {},
       "output_type": "pyout",
       "prompt_number": 26,
       "text": [
        "0.99839744573838396"
       ]
      }
     ],
     "prompt_number": 26
    },
    {
     "cell_type": "code",
     "collapsed": false,
     "input": [
      "# plot surface pressure coefficient\n",
      "val_x, val_y = 0.1, 0.2\n",
      "x_min = min( panel.xa for panel in panels )\n",
      "x_max = max( panel.xa for panel in panels )\n",
      "cp_min = min( panel.cp for panel in panels )\n",
      "cp_max = max( panel.cp for panel in panels )\n",
      "x_start, x_end = x_min-val_x*(x_max-x_min), x_max+val_x*(x_max-x_min)\n",
      "y_start, y_end = cp_min-val_y*(cp_max-cp_min), cp_max+val_y*(cp_max-cp_min)\n",
      "\n",
      "pyplot.figure(figsize=(10, 6))\n",
      "pyplot.grid(True)\n",
      "pyplot.xlabel(r'$x$', fontsize=16)\n",
      "pyplot.ylabel(r'$C_p$', fontsize=16)\n",
      "pyplot.plot([panel.xc for panel in panels if panel.loc == 'upper'], \n",
      "         [panel.cp for panel in panels if panel.loc == 'upper'],\n",
      "         label='upper surface',\n",
      "         color='r', linestyle='-', linewidth=2, marker='o', markersize=6)\n",
      "pyplot.plot([panel.xc for panel in panels if panel.loc == 'lower'], \n",
      "         [panel.cp for panel in panels if panel.loc == 'lower'], \n",
      "         label= 'lower surface',\n",
      "         color='b', linestyle='-', linewidth=1, marker='o', markersize=6)\n",
      "pyplot.legend(loc='best', prop={'size':14})\n",
      "pyplot.xlim(x_start, x_end)\n",
      "pyplot.ylim(y_start, y_end)\n",
      "pyplot.gca().invert_yaxis()\n",
      "pyplot.title('Number of panels: {}'.format(panels.size), fontsize=16);"
     ],
     "language": "python",
     "metadata": {},
     "outputs": [
      {
       "metadata": {},
       "output_type": "display_data",
       "png": "[encoded data removed]",
       "text": [
        "<matplotlib.figure.Figure at 0xfe37940>"
       ]
      }
     ],
     "prompt_number": 27
    },
    {
     "cell_type": "markdown",
     "metadata": {},
     "source": [
      "The lift  is given by the Kutta-Joukowski theorem, $L = \\rho \\Gamma U_\\infty$, \n",
      "where $\\rho$ is the fluid density. The total circulation $\\Gamma$ is given by:\n",
      "\n",
      "$$\\Gamma = \\sum_{i=1}^N \\gamma l_i$$\n",
      "\n",
      "Finally, the lift coefficient is given by:\n",
      "\n",
      "$$C_l = \\frac{\\sum_{i=1}^N \\gamma l_i}{\\frac{1}{2}U_\\infty c}$$\n",
      "\n",
      " with $c$ the chord-length of the airoil"
     ]
    },
    {
     "cell_type": "code",
     "collapsed": false,
     "input": [
      "cl=0\n",
      "\n",
      "\n",
      "for i,panel in enumerate(allpanels):\n",
      "    cl-= panel.cp*panel.length*numpy.sin(panel.beta)\n",
      "\n",
      "\n",
      "print '--> Lift coefficient: Cl = %.3f' % cl       \n",
      "    "
     ],
     "language": "python",
     "metadata": {},
     "outputs": [
      {
       "output_type": "stream",
       "stream": "stdout",
       "text": [
        "--> Lift coefficient: Cl = 3.377\n"
       ]
      }
     ],
     "prompt_number": 28
    },
    {
     "cell_type": "code",
     "collapsed": false,
     "input": [
      "cd=0\n",
      "\n",
      "\n",
      "for i,panel in enumerate(allpanels):\n",
      "    cd-= panel.cp*panel.length*numpy.cos(panel.beta)\n",
      "\n",
      "\n",
      "print '--> Lift coefficient: Cd = %.3f' % cd    "
     ],
     "language": "python",
     "metadata": {},
     "outputs": [
      {
       "output_type": "stream",
       "stream": "stdout",
       "text": [
        "--> Lift coefficient: Cd = -0.011\n"
       ]
      }
     ],
     "prompt_number": 33
    },
    {
     "cell_type": "code",
     "collapsed": false,
     "input": [],
     "language": "python",
     "metadata": {},
     "outputs": []
    }
   ],
   "metadata": {}
  }
 ]
}