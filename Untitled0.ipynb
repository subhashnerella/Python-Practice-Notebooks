{
 "metadata": {
  "name": "",
  "signature": "sha256:532a39c009e4815eed2981183bc6d4a9e0b35784b01606ab1f74991816266755"
 },
 "nbformat": 3,
 "nbformat_minor": 0,
 "worksheets": [
  {
   "cells": [
    {
     "cell_type": "code",
     "collapsed": false,
     "input": [
      "import math\n",
      "import numpy\n",
      "from scipy import integrate\n",
      "from matplotlib import pyplot"
     ],
     "language": "python",
     "metadata": {},
     "outputs": [],
     "prompt_number": 1
    },
    {
     "cell_type": "code",
     "collapsed": false,
     "input": [
      "with open ('./resources/MainFoil_N=50.csv') as file_name:\n",
      "          p, q = numpy.loadtxt(file_name, dtype=float, delimiter=',', unpack=True)\n",
      "with open ('./resources/FlapFoil_N=50.csv') as file_name:\n",
      "         u, v = numpy.loadtxt(file_name, dtype=float, delimiter=',', unpack=True)"
     ],
     "language": "python",
     "metadata": {},
     "outputs": [],
     "prompt_number": 2
    },
    {
     "cell_type": "code",
     "collapsed": false,
     "input": [
      "class Panel:\n",
      "    \"\"\"Contains information related to one panel.\"\"\"\n",
      "    def __init__(self, xa, ya, xb, yb):\n",
      "        \"\"\"Creates a panel.\n",
      "        \n",
      "        Arguments\n",
      "        ---------\n",
      "        xa, ya -- Cartesian coordinates of the first end-point.\n",
      "        xb, yb -- Cartesian coordinates of the second end-point.\n",
      "        \"\"\"\n",
      "        self.xa, self.ya = xa, ya\n",
      "        self.xb, self.yb = xb, yb\n",
      "        \n",
      "        self.xc, self.yc = (xa+xb)/2, (ya+yb)/2       # control-point (center-point)\n",
      "        self.length = math.sqrt((xb-xa)**2+(yb-ya)**2)     # length of the panel\n",
      "        \n",
      "        # orientation of the panel (angle between x-axis and panel's normal)\n",
      "        if xb-xa <= 0.:\n",
      "            self.beta = math.acos((yb-ya)/self.length)\n",
      "        elif xb-xa > 0.:\n",
      "            self.beta = math.pi + math.acos(-(yb-ya)/self.length)\n",
      "        \n",
      "        # location of the panel\n",
      "        if self.beta <= math.pi:\n",
      "            self.loc = 'extrados'\n",
      "        else:\n",
      "            self.loc = 'intrados'\n",
      "        \n",
      "        self.sigma = 0.                             # source strength\n",
      "        self.vt = 0.                                # tangential velocity\n",
      "        self.cp = 0.                                # pressure coefficient"
     ],
     "language": "python",
     "metadata": {},
     "outputs": [],
     "prompt_number": 3
    },
    {
     "cell_type": "code",
     "collapsed": false,
     "input": [
      "N = 50\n",
      "panels = numpy.empty(N, dtype=object)\n",
      "flappanels = numpy.empty(N, dtype=object)\n",
      "for i in xrange(N):\n",
      "    panels[i] = Panel(p[i], q[i], p[i+1], q[i+1])\n",
      "for i in xrange(N):\n",
      "    flappanels[i] = Panel(u[i], v[i], u[i+1], v[i+1])"
     ],
     "language": "python",
     "metadata": {},
     "outputs": [],
     "prompt_number": 4
    },
    {
     "cell_type": "code",
     "collapsed": false,
     "input": [
      "allpanels = numpy.append(panels,flappanels)"
     ],
     "language": "python",
     "metadata": {},
     "outputs": [],
     "prompt_number": 5
    },
    {
     "cell_type": "code",
     "collapsed": false,
     "input": [
      "numpy.shape(allpanels)"
     ],
     "language": "python",
     "metadata": {},
     "outputs": [
      {
       "metadata": {},
       "output_type": "pyout",
       "prompt_number": 6,
       "text": [
        "(100L,)"
       ]
      }
     ],
     "prompt_number": 6
    },
    {
     "cell_type": "code",
     "collapsed": false,
     "input": [
      "def integral(x, y, panel, dxdz, dydz):\n",
      "    \"\"\"Evaluates the contribution of a panel at one point.\n",
      "    \n",
      "    Arguments\n",
      "    ---------\n",
      "    x, y -- Cartesian coordinates of the point.\n",
      "    panel -- panel which contribution is evaluated.\n",
      "    dxdz -- derivative of x in the z-direction.\n",
      "    dydz -- derivative of y in the z-direction.\n",
      "    \n",
      "    Returns\n",
      "    -------\n",
      "    Integral over the panel of the influence at one point.\n",
      "    \"\"\"\n",
      "    def func(s):\n",
      "        return ( ((x - (panel.xa - math.sin(panel.beta)*s))*dxdz \n",
      "                  + (y - (panel.ya + math.cos(panel.beta)*s))*dydz)\n",
      "                / ((x - (panel.xa - math.sin(panel.beta)*s))**2 \n",
      "                   + (y - (panel.ya + math.cos(panel.beta)*s))**2) )\n",
      "    return integrate.quad(lambda s:func(s), 0., panel.length)[0]"
     ],
     "language": "python",
     "metadata": {},
     "outputs": [],
     "prompt_number": 7
    },
    {
     "cell_type": "code",
     "collapsed": false,
     "input": [
      "def source_matrix(panels):\n",
      "    \"\"\"Builds the source matrix.\n",
      "    \n",
      "    Arguments\n",
      "    ---------\n",
      "    panels -- array of panels.\n",
      "    \n",
      "    Returns\n",
      "    -------\n",
      "    A -- NxN matrix (N is the number of panels).\n",
      "    \"\"\"\n",
      "    A = numpy.empty((panels.size, panels.size), dtype=float)\n",
      "    numpy.fill_diagonal(A, 0.5)\n",
      "    \n",
      "    for i, p_i in enumerate(panels):\n",
      "        for j, p_j in enumerate(panels):\n",
      "            if i != j:\n",
      "                A[i,j] = 0.5/math.pi*integral(p_i.xc, p_i.yc, \n",
      "                                              p_j, \n",
      "                                              math.cos(p_i.beta), math.sin(p_i.beta))\n",
      "    \n",
      "    return A"
     ],
     "language": "python",
     "metadata": {},
     "outputs": [],
     "prompt_number": 8
    },
    {
     "cell_type": "code",
     "collapsed": false,
     "input": [
      "A = source_matrix(allpanels)"
     ],
     "language": "python",
     "metadata": {},
     "outputs": [],
     "prompt_number": 9
    },
    {
     "cell_type": "code",
     "collapsed": false,
     "input": [
      "numpy.shape(A)"
     ],
     "language": "python",
     "metadata": {},
     "outputs": [
      {
       "metadata": {},
       "output_type": "pyout",
       "prompt_number": 10,
       "text": [
        "(100L, 100L)"
       ]
      }
     ],
     "prompt_number": 10
    },
    {
     "cell_type": "code",
     "collapsed": false,
     "input": [
      "def vortex_array(allpanels,panels,flappanels):\n",
      "    \"\"\"Builds the vortex array.\n",
      "    \n",
      "    Arguments\n",
      "    ---------\n",
      "    panels - array of panels.\n",
      "    \n",
      "    Returns\n",
      "    -------\n",
      "    a -- 1D array (Nx1, N is the number of panels).\n",
      "    \"\"\"\n",
      "    a = numpy.zeros(allpanels.size, dtype=float)\n",
      "    b = numpy.zeros(allpanels.size, dtype=float)\n",
      "    \n",
      "    for i, p_i in enumerate(allpanels):\n",
      "        for j, p_j in enumerate(panels):\n",
      "            if i != j:\n",
      "                a[i] -= 0.5/math.pi*integral(p_i.xc, p_i.yc, \n",
      "                                             p_j, \n",
      "                                             math.sin(p_i.beta), -math.cos(p_i.beta))\n",
      "        for k, p_k in enumerate(flappanels):\n",
      "            if i != k:                                    \n",
      "                b[i] -= 0.5/math.pi*integral(p_i.xc, p_i.yc, \n",
      "                                             p_k, \n",
      "                                             math.sin(p_i.beta), -math.cos(p_i.beta))\n",
      "    return a, b"
     ],
     "language": "python",
     "metadata": {},
     "outputs": [],
     "prompt_number": 11
    },
    {
     "cell_type": "code",
     "collapsed": false,
     "input": [
      "P, Q = vortex_array(allpanels,panels,flappanels)"
     ],
     "language": "python",
     "metadata": {},
     "outputs": [
      {
       "output_type": "stream",
       "stream": "stderr",
       "text": [
        "-c:19: RuntimeWarning: invalid value encountered in double_scalars\n",
        "C:\\Anaconda\\lib\\site-packages\\scipy\\integrate\\quadpack.py:321: IntegrationWarning: The maximum number of subdivisions (50) has been achieved.\n",
        "  If increasing the limit yields no improvement it is advised to analyze \n",
        "  the integrand in order to determine the difficulties.  If the position of a \n",
        "  local difficulty can be determined (singularity, discontinuity) one will \n",
        "  probably gain from splitting up the interval and calling the integrator \n",
        "  on the subranges.  Perhaps a special-purpose integrator should be used.\n",
        "  warnings.warn(msg, IntegrationWarning)\n"
       ]
      }
     ],
     "prompt_number": 12
    },
    {
     "cell_type": "code",
     "collapsed": false,
     "input": [
      "def kutta_array(allpanels,panels,flappanels):\n",
      "    \"\"\"Builds the Kutta-condition array.\n",
      "    \n",
      "    Arguments\n",
      "    ---------\n",
      "    panels -- array of panels.\n",
      "    \n",
      "    Returns\n",
      "    -------\n",
      "    a -- 1D array (Nx1, N is the number of panels).\n",
      "    \"\"\"\n",
      "    NO = allpanels.size\n",
      "    N = panels.size\n",
      "    NF = flappanels.size\n",
      "    a = numpy.zeros(NO+2, dtype=float)\n",
      "    b = numpy.zeros(NO+2, dtype=float)\n",
      "    # contribution from the source sheet of the first panel on the last one\n",
      "    a[0] = 0.5/math.pi*integral(panels[N-1].xc, panels[N-1].yc, panels[0], \n",
      "                           -math.sin(panels[N-1].beta), +math.cos(panels[N-1].beta))\n",
      "    b[N] = 0.5/math.pi*integral(flappanels[NF-1].xc, flappanels[NF-1].yc, flappanels[0], \n",
      "                           -math.sin(flappanels[NF-1].beta), +math.cos(flappanels[NF-1].beta))\n",
      "    # contribution from the source sheet of the last panel on the first one\n",
      "    a[N-1] = 0.5/math.pi*integral(panels[0].xc, panels[0].yc, panels[N-1], \n",
      "                             -math.sin(panels[0].beta), +math.cos(panels[0].beta))\n",
      "    b[NO-1] = 0.5/math.pi*integral(flappanels[0].xc, flappanels[0].yc, flappanels[NF-1], \n",
      "                             -math.sin(flappanels[0].beta), +math.cos(flappanels[0].beta))\n",
      "    \n",
      "    \n",
      "    # contribution from the vortex sheet of the first panel on the last one\n",
      "    a[NO] -= 0.5/math.pi*integral(panels[-1].xc, panels[-1].yc, panels[0], \n",
      "                               +math.cos(panels[-1].beta), math.sin(panels[-1].beta))\n",
      "    # contribution from the vortex sheet of the last panel on the first one\n",
      "    a[NO] -= 0.5/math.pi*integral(panels[0].xc, panels[0].yc, panels[-1], \n",
      "                               +math.cos(panels[0].beta), math.sin(panels[0].beta))\n",
      "    # contribution from the vortex sheet of the first panel on itself\n",
      "    a[NO] -= 0.5\n",
      "    # contribution from the vortex sheet of the last panel on itself\n",
      "    a[NO] -= 0.5\n",
      " \n",
      "    \n",
      "    # contribution from the vortex sheet of the first panel on the last one\n",
      "    b[NO+1] -= 0.5/math.pi*integral(flappanels[-1].xc, flappanels[-1].yc, flappanels[0], \n",
      "                               +math.cos(flappanels[-1].beta), math.sin(flappanels[-1].beta))\n",
      "    # contribution from the vortex sheet of the last panel on the first one\n",
      "    b[NO+1] -= 0.5/math.pi*integral(flappanels[0].xc, flappanels[0].yc, flappanels[-1], \n",
      "                               +math.cos(flappanels[0].beta), math.sin(flappanels[0].beta))\n",
      "    # contribution from the vortex sheet of the first panel on itself\n",
      "    b[NO+1] -= 0.5\n",
      "    # contribution from the vortex sheet of the last panel on itself\n",
      "    b[NO+1] -= 0.5\n",
      " \n",
      "    \n",
      "    \n",
      "    \n",
      "    # contribution from the other panels on the first and last ones\n",
      "    for i, panel in enumerate(allpanels[1:]):\n",
      "        # contribution from the source sheet\n",
      "        if i!=N-1:\n",
      "            a[i+1] = 0.5/math.pi*(integral(panels[0].xc, panels[0].yc, panel, \n",
      "                                   -math.sin(panels[0].beta), +math.cos(panels[0].beta))\n",
      "                         + integral(panels[N-1].xc, panels[N-1].yc, panel, \n",
      "                                   -math.sin(panels[N-1].beta), +math.cos(panels[N-1].beta)) )\n",
      "    for panel in panels[1:-1]:\n",
      "        # contribution from the vortex sheet\n",
      "        a[NO] -= 0.5/math.pi*(integral(panels[0].xc, panels[0].yc, panel, \n",
      "                                   +math.cos(panels[0].beta), math.sin(panels[0].beta))\n",
      "                                 + integral(panels[-1].xc, panels[-1].yc, panel, \n",
      "                                   +math.cos(panels[-1].beta), math.sin(panels[-1].beta)) )\n",
      "    for panel in flappanels:\n",
      "        a[NO+1] -= 0.5/math.pi*(integral(panels[0].xc, panels[0].yc, panel, \n",
      "                                   +math.cos(panels[0].beta), math.sin(panels[0].beta))\n",
      "                                 + integral(panels[-1].xc, panels[-1].yc, panel, \n",
      "                                   +math.cos(panels[-1].beta), math.sin(panels[-1].beta)) )\n",
      "    \n",
      "    \n",
      "    for i, panel in enumerate(allpanels[:-1]):\n",
      "        if i!=N:\n",
      "            b[i] = 0.5/math.pi*(integral(flappanels[0].xc, flappanels[0].yc, panel, \n",
      "                                   -math.sin(flappanels[0].beta), +math.cos(flappanels[0].beta))\n",
      "                         + integral(flappanels[NF-1].xc, flappanels[NF-1].yc, panel, \n",
      "                                  -math.sin(flappanels[N-1].beta), +math.cos(flappanels[N-1].beta)) )\n",
      "            \n",
      "    for panel in panels:\n",
      "        b[NO] -= 0.5/math.pi*(integral(flappanels[0].xc, flappanels[0].yc, panel, \n",
      "                                   +math.cos(flappanels[0].beta), math.sin(flappanels[0].beta))\n",
      "                                 + integral(flappanels[-1].xc, flappanels[-1].yc, panel, \n",
      "                                   +math.cos(flappanels[-1].beta), math.sin(flappanels[-1].beta)) )\n",
      "            \n",
      "    for panel in flappanels[1:-1]:\n",
      "        b[NO+1] -= 0.5/math.pi*(integral(flappanels[0].xc, flappanels[0].yc, panel, \n",
      "                                   +math.cos(panels[0].beta), math.sin(panels[0].beta))\n",
      "                                 + integral(flappanels[-1].xc, flappanels[-1].yc, panel, \n",
      "                                   +math.cos(panels[-1].beta), math.sin(panels[-1].beta)) )\n",
      "            \n",
      "\n",
      "        \n",
      "    return a, b"
     ],
     "language": "python",
     "metadata": {},
     "outputs": [],
     "prompt_number": 13
    },
    {
     "cell_type": "code",
     "collapsed": false,
     "input": [
      "R, S = kutta_array(allpanels,panels,flappanels)"
     ],
     "language": "python",
     "metadata": {},
     "outputs": [],
     "prompt_number": 14
    },
    {
     "cell_type": "code",
     "collapsed": false,
     "input": [
      "numpy.shape(R)"
     ],
     "language": "python",
     "metadata": {},
     "outputs": [
      {
       "metadata": {},
       "output_type": "pyout",
       "prompt_number": 15,
       "text": [
        "(102L,)"
       ]
      }
     ],
     "prompt_number": 15
    },
    {
     "cell_type": "code",
     "collapsed": false,
     "input": [
      "NO = allpanels.size\n",
      "print NO\n",
      "AS = numpy.empty((NO+2, NO+2), dtype=float)\n",
      "numpy.shape(AS)"
     ],
     "language": "python",
     "metadata": {},
     "outputs": [
      {
       "output_type": "stream",
       "stream": "stdout",
       "text": [
        "100\n"
       ]
      },
      {
       "metadata": {},
       "output_type": "pyout",
       "prompt_number": 16,
       "text": [
        "(102L, 102L)"
       ]
      }
     ],
     "prompt_number": 16
    },
    {
     "cell_type": "code",
     "collapsed": false,
     "input": [
      "numpy.shape(A)"
     ],
     "language": "python",
     "metadata": {},
     "outputs": [
      {
       "metadata": {},
       "output_type": "pyout",
       "prompt_number": 17,
       "text": [
        "(100L, 100L)"
       ]
      }
     ],
     "prompt_number": 17
    },
    {
     "cell_type": "code",
     "collapsed": false,
     "input": [
      "AS[0:NO,0:NO], AS[0:NO,NO], AS[0:NO,NO+1], AS[NO,:], AS[NO+1,:]= A[:,:], P[:], Q[:], R[:], S[:]"
     ],
     "language": "python",
     "metadata": {},
     "outputs": [],
     "prompt_number": 21
    },
    {
     "cell_type": "code",
     "collapsed": false,
     "input": [
      "class Freestream:\n",
      "    \"\"\"Freestream conditions.\"\"\"\n",
      "    def __init__(self, u_inf=1.0, alpha=0.0):\n",
      "        \"\"\"Sets the freestream conditions.\n",
      "        \n",
      "        Arguments\n",
      "        ---------\n",
      "        u_inf -- Farfield speed (default 1.0).\n",
      "        alpha -- Angle of attack in degrees (default 0.0).\n",
      "        \"\"\"\n",
      "        self.u_inf = u_inf\n",
      "        self.alpha = alpha*math.pi/180          # degrees --> radians"
     ],
     "language": "python",
     "metadata": {},
     "outputs": [],
     "prompt_number": 23
    },
    {
     "cell_type": "code",
     "collapsed": false,
     "input": [
      "# defines and creates the object freestream\n",
      "u_inf = 1.0                                # freestream spee\n",
      "alpha = 4.0                                # angle of attack (in degrees)\n",
      "freestream = Freestream(u_inf, alpha)      # instantiation of the object freestream"
     ],
     "language": "python",
     "metadata": {},
     "outputs": [],
     "prompt_number": 24
    },
    {
     "cell_type": "code",
     "collapsed": false,
     "input": [
      "def build_rhs(panels,allpanels,flappanels,freestream):\n",
      "    \"\"\"Builds the RHS of the linear system.\n",
      "    \n",
      "    Arguments\n",
      "    ---------\n",
      "    panels -- array of panels.\n",
      "    freestream -- farfield conditions.\n",
      "    \n",
      "    Returns\n",
      "    -------\n",
      "    b -- 1D array ((N+1)x1, N is the number of panels).\n",
      "    \"\"\"\n",
      "    N = len(allpanels)\n",
      "    NP = len(panels)\n",
      "    NF = len(flappanels)\n",
      "    b = numpy.empty(N+2,dtype=float)\n",
      "    \n",
      "    for i, panel in enumerate(allpanels):\n",
      "        b[i] = - freestream.u_inf * math.cos(freestream.alpha - panel.beta)\n",
      "    b[N] = -freestream.u_inf*( math.sin(freestream.alpha-panels[0].beta)\n",
      "                              +math.sin(freestream.alpha-panels[NP-1].beta) )\n",
      "    b[N+1] = -freestream.u_inf*( math.sin(freestream.alpha-flappanels[0].beta)\n",
      "                              +math.sin(freestream.alpha-flappanels[NF-1].beta) )\n",
      "    \n",
      "    return b"
     ],
     "language": "python",
     "metadata": {},
     "outputs": [],
     "prompt_number": 27
    },
    {
     "cell_type": "code",
     "collapsed": false,
     "input": [
      "B = build_rhs(panels,allpanels,flappanels,freestream)"
     ],
     "language": "python",
     "metadata": {},
     "outputs": [],
     "prompt_number": 28
    },
    {
     "cell_type": "code",
     "collapsed": false,
     "input": [
      "numpy.shape(B)"
     ],
     "language": "python",
     "metadata": {},
     "outputs": [
      {
       "metadata": {},
       "output_type": "pyout",
       "prompt_number": 29,
       "text": [
        "(102L,)"
       ]
      }
     ],
     "prompt_number": 29
    },
    {
     "cell_type": "code",
     "collapsed": false,
     "input": [
      "variables = numpy.linalg.solve(AS, B)"
     ],
     "language": "python",
     "metadata": {},
     "outputs": [],
     "prompt_number": 30
    },
    {
     "cell_type": "code",
     "collapsed": false,
     "input": [
      "numpy.shape(variables)"
     ],
     "language": "python",
     "metadata": {},
     "outputs": [
      {
       "metadata": {},
       "output_type": "pyout",
       "prompt_number": 31,
       "text": [
        "(102L,)"
       ]
      }
     ],
     "prompt_number": 31
    },
    {
     "cell_type": "code",
     "collapsed": false,
     "input": [
      "for i, panel in enumerate(allpanels):\n",
      "    panel.sigma = variables[i]\n",
      "gamma2 = variables[-1]\n",
      "gamma1 = variables[-2]"
     ],
     "language": "python",
     "metadata": {},
     "outputs": [],
     "prompt_number": 32
    },
    {
     "cell_type": "code",
     "collapsed": false,
     "input": [
      "def get_tangential_velocity(panels,panels1,panels2,freestream,gamma1,gamma2):\n",
      "    \"\"\"Computes the tangential velocity on the surface.\n",
      "    \n",
      "    Arguments\n",
      "    ---------\n",
      "    panels -- array of panels.\n",
      "    freestream -- farfield conditions.\n",
      "    gamma -- circulation density.\n",
      "    \"\"\"\n",
      "    N = len(panels)\n",
      "    A = numpy.empty((N, N+2), dtype=float)\n",
      "    numpy.fill_diagonal(A, 0.0)\n",
      "    \n",
      "    for i, p_i in enumerate(panels):\n",
      "        # contribution from vortex on itself\n",
      "        A[i, N] = -0.5\n",
      "        A[i, N+1] = -0.5\n",
      "        for j, p_j in enumerate(panels):\n",
      "            if i != j:\n",
      "                # contribution from the sources\n",
      "                A[i,j] = 0.5/math.pi*integral(p_i.xc, p_i.yc, \n",
      "                                              p_j, \n",
      "                                              -math.sin(p_i.beta), math.cos(p_i.beta))\n",
      "        for k, p_k in enumerate(panels1):        \n",
      "                # contribution the vortices\n",
      "                A[i,N] -= 0.5/math.pi*integral(p_i.xc, p_i.yc, \n",
      "                                               p_k, \n",
      "                                               math.cos(p_i.beta), math.sin(p_i.beta))\n",
      "        for l, p_l in enumerate(panels2):        \n",
      "                A[i,N+1] -= 0.5/math.pi*integral(p_i.xc, p_i.yc, \n",
      "                                               p_l, \n",
      "                                               math.cos(p_i.beta), math.sin(p_i.beta))\n",
      "\n",
      "    b = freestream.u_inf * numpy.sin([freestream.alpha - panel.beta for panel in panels])\n",
      "    \n",
      "    var = numpy.append([panel.sigma for panel in panels], gamma1)\n",
      "    var = numpy.append(var, gamma2)\n",
      "    \n",
      "    vt = numpy.dot(A, var) + b\n",
      "    for i, panel in enumerate(panels):\n",
      "        panel.vt = vt[i]"
     ],
     "language": "python",
     "metadata": {},
     "outputs": [],
     "prompt_number": 37
    },
    {
     "cell_type": "code",
     "collapsed": false,
     "input": [
      "get_tangential_velocity(allpanels,panels,flappanels,freestream,gamma1,gamma2)"
     ],
     "language": "python",
     "metadata": {},
     "outputs": [],
     "prompt_number": 38
    },
    {
     "cell_type": "code",
     "collapsed": false,
     "input": [],
     "language": "python",
     "metadata": {},
     "outputs": []
    }
   ],
   "metadata": {}
  }
 ]
}